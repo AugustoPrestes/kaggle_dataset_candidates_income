{
 "cells": [
  {
   "cell_type": "markdown",
   "id": "daee99b5",
   "metadata": {},
   "source": [
    "# Configuring the Environment"
   ]
  },
  {
   "cell_type": "markdown",
   "id": "56bdb27e",
   "metadata": {},
   "source": [
    "## Imports"
   ]
  },
  {
   "cell_type": "code",
   "execution_count": 4,
   "id": "f8c61f48",
   "metadata": {
    "ExecuteTime": {
     "end_time": "2023-08-20T21:37:54.558291Z",
     "start_time": "2023-08-20T21:37:54.543288Z"
    }
   },
   "outputs": [],
   "source": [
    "import os\n",
    "import pandas as pd\n",
    "import basedosdados as bd\n",
    "import numpy as np\n",
    "\n",
    "import matplotlib.pyplot as plt\n",
    "import seaborn as sns"
   ]
  },
  {
   "cell_type": "code",
   "execution_count": 3,
   "id": "5549a50b",
   "metadata": {
    "ExecuteTime": {
     "end_time": "2023-08-20T21:22:49.545691Z",
     "start_time": "2023-08-20T21:22:49.448683Z"
    }
   },
   "outputs": [],
   "source": [
    "# Seting plt\n",
    "%matplotlib inline"
   ]
  },
  {
   "cell_type": "markdown",
   "id": "f156f73c",
   "metadata": {},
   "source": [
    "## Configuring Access"
   ]
  },
  {
   "cell_type": "code",
   "execution_count": 5,
   "id": "e246940c",
   "metadata": {
    "ExecuteTime": {
     "end_time": "2023-08-20T21:48:35.804892Z",
     "start_time": "2023-08-20T21:39:18.514390Z"
    }
   },
   "outputs": [
    {
     "name": "stdout",
     "output_type": "stream",
     "text": [
      "Please visit this URL to authorize this application: https://accounts.google.com/o/oauth2/auth?response_type=code&client_id=262006177488-3425ks60hkk80fssi9vpohv88g6q1iqd.apps.googleusercontent.com&redirect_uri=http%3A%2F%2Flocalhost%3A8081%2F&scope=https%3A%2F%2Fwww.googleapis.com%2Fauth%2Fcloud-platform&state=2zZtp3BHZUWRrWI1Em01FdemnWzy2l&prompt=consent&access_type=offline\n"
     ]
    },
    {
     "name": "stderr",
     "output_type": "stream",
     "text": [
      "Downloading: 100%|███████████████████████████████████████████████████████████████| 1000000/1000000 [08:35<00:00, 1941.45rows/s]\n"
     ]
    }
   ],
   "source": [
    "# Accessing original data\n",
    "original_tabel = bd.read_table(dataset_id='br_tse_eleicoes',\n",
    "                  table_id='receitas_candidato',\n",
    "                  billing_project_id='eleicoes-380622',\n",
    "                  limit=1000000,\n",
    "                  reauth=True)"
   ]
  },
  {
   "cell_type": "code",
   "execution_count": 6,
   "id": "97587302",
   "metadata": {
    "ExecuteTime": {
     "end_time": "2023-08-20T21:48:35.911924Z",
     "start_time": "2023-08-20T21:48:35.902907Z"
    }
   },
   "outputs": [],
   "source": [
    "# Creating the folder for the dataset\n",
    "os.makedirs('data/parquet_files', exist_ok=True) "
   ]
  },
  {
   "cell_type": "code",
   "execution_count": 12,
   "id": "b9e6fae1",
   "metadata": {
    "ExecuteTime": {
     "end_time": "2023-08-20T22:17:51.782032Z",
     "start_time": "2023-08-20T22:17:39.338347Z"
    }
   },
   "outputs": [],
   "source": [
    "# Saving dataset in parquet file\n",
    "original_tabel.to_parquet('data/parquet_files/candidate_recipes.parquet.gzip',\n",
    "              compression='gzip')"
   ]
  },
  {
   "cell_type": "markdown",
   "id": "b094c1ff",
   "metadata": {},
   "source": [
    "# Loading the dataset"
   ]
  },
  {
   "cell_type": "code",
   "execution_count": 11,
   "id": "49196c45",
   "metadata": {
    "ExecuteTime": {
     "end_time": "2023-08-20T22:15:21.835799Z",
     "start_time": "2023-08-20T22:15:18.779629Z"
    }
   },
   "outputs": [
    {
     "data": {
      "text/html": [
       "<div>\n",
       "<style scoped>\n",
       "    .dataframe tbody tr th:only-of-type {\n",
       "        vertical-align: middle;\n",
       "    }\n",
       "\n",
       "    .dataframe tbody tr th {\n",
       "        vertical-align: top;\n",
       "    }\n",
       "\n",
       "    .dataframe thead th {\n",
       "        text-align: right;\n",
       "    }\n",
       "</style>\n",
       "<table border=\"1\" class=\"dataframe\">\n",
       "  <thead>\n",
       "    <tr style=\"text-align: right;\">\n",
       "      <th></th>\n",
       "      <th>ano</th>\n",
       "      <th>turno</th>\n",
       "      <th>tipo_eleicao</th>\n",
       "      <th>sigla_uf</th>\n",
       "      <th>id_municipio</th>\n",
       "      <th>id_municipio_tse</th>\n",
       "      <th>sequencial_candidato</th>\n",
       "      <th>numero_candidato</th>\n",
       "      <th>cpf_candidato</th>\n",
       "      <th>cnpj_candidato</th>\n",
       "      <th>...</th>\n",
       "      <th>cpf_administrador</th>\n",
       "      <th>numero_recibo_eleitoral</th>\n",
       "      <th>numero_documento</th>\n",
       "      <th>numero_recibo_doacao</th>\n",
       "      <th>numero_documento_doacao</th>\n",
       "      <th>tipo_prestacao_contas</th>\n",
       "      <th>data_prestacao_contas</th>\n",
       "      <th>sequencial_prestador_contas</th>\n",
       "      <th>cnpj_prestador_contas</th>\n",
       "      <th>entrega_conjunto</th>\n",
       "    </tr>\n",
       "  </thead>\n",
       "  <tbody>\n",
       "    <tr>\n",
       "      <th>0</th>\n",
       "      <td>2022</td>\n",
       "      <td>1</td>\n",
       "      <td>eleicao ordinaria</td>\n",
       "      <td>AC</td>\n",
       "      <td>None</td>\n",
       "      <td>None</td>\n",
       "      <td>10001635541</td>\n",
       "      <td>10000</td>\n",
       "      <td>60746440120</td>\n",
       "      <td>None</td>\n",
       "      <td>...</td>\n",
       "      <td>None</td>\n",
       "      <td>None</td>\n",
       "      <td>None</td>\n",
       "      <td>100000700000AC000001E</td>\n",
       "      <td>07665132000181</td>\n",
       "      <td>final</td>\n",
       "      <td>2022-10-27</td>\n",
       "      <td>3791359992</td>\n",
       "      <td>47529158000117</td>\n",
       "      <td>None</td>\n",
       "    </tr>\n",
       "    <tr>\n",
       "      <th>1</th>\n",
       "      <td>2022</td>\n",
       "      <td>1</td>\n",
       "      <td>eleicao ordinaria</td>\n",
       "      <td>AC</td>\n",
       "      <td>None</td>\n",
       "      <td>None</td>\n",
       "      <td>10001635541</td>\n",
       "      <td>10000</td>\n",
       "      <td>60746440120</td>\n",
       "      <td>None</td>\n",
       "      <td>...</td>\n",
       "      <td>None</td>\n",
       "      <td>None</td>\n",
       "      <td>None</td>\n",
       "      <td>100000700000AC000002E</td>\n",
       "      <td>09017845000164</td>\n",
       "      <td>final</td>\n",
       "      <td>2022-10-27</td>\n",
       "      <td>3791359992</td>\n",
       "      <td>47529158000117</td>\n",
       "      <td>None</td>\n",
       "    </tr>\n",
       "    <tr>\n",
       "      <th>2</th>\n",
       "      <td>2022</td>\n",
       "      <td>1</td>\n",
       "      <td>eleicao ordinaria</td>\n",
       "      <td>AC</td>\n",
       "      <td>None</td>\n",
       "      <td>None</td>\n",
       "      <td>10001635532</td>\n",
       "      <td>10022</td>\n",
       "      <td>10938192191</td>\n",
       "      <td>None</td>\n",
       "      <td>...</td>\n",
       "      <td>None</td>\n",
       "      <td>None</td>\n",
       "      <td>None</td>\n",
       "      <td>100220700000AC000005E</td>\n",
       "      <td>07665132000181</td>\n",
       "      <td>final</td>\n",
       "      <td>2023-06-13</td>\n",
       "      <td>3791359846</td>\n",
       "      <td>47546843000151</td>\n",
       "      <td>None</td>\n",
       "    </tr>\n",
       "    <tr>\n",
       "      <th>3</th>\n",
       "      <td>2022</td>\n",
       "      <td>1</td>\n",
       "      <td>eleicao ordinaria</td>\n",
       "      <td>AC</td>\n",
       "      <td>None</td>\n",
       "      <td>None</td>\n",
       "      <td>10001635532</td>\n",
       "      <td>10022</td>\n",
       "      <td>10938192191</td>\n",
       "      <td>None</td>\n",
       "      <td>...</td>\n",
       "      <td>None</td>\n",
       "      <td>None</td>\n",
       "      <td>None</td>\n",
       "      <td>100220700000AC000004E</td>\n",
       "      <td>10938192191</td>\n",
       "      <td>final</td>\n",
       "      <td>2023-06-13</td>\n",
       "      <td>3791359846</td>\n",
       "      <td>47546843000151</td>\n",
       "      <td>None</td>\n",
       "    </tr>\n",
       "    <tr>\n",
       "      <th>4</th>\n",
       "      <td>2022</td>\n",
       "      <td>1</td>\n",
       "      <td>eleicao ordinaria</td>\n",
       "      <td>AC</td>\n",
       "      <td>None</td>\n",
       "      <td>None</td>\n",
       "      <td>10001635532</td>\n",
       "      <td>10022</td>\n",
       "      <td>10938192191</td>\n",
       "      <td>None</td>\n",
       "      <td>...</td>\n",
       "      <td>None</td>\n",
       "      <td>None</td>\n",
       "      <td>None</td>\n",
       "      <td>100220700000AC000001E</td>\n",
       "      <td>07665132000181</td>\n",
       "      <td>final</td>\n",
       "      <td>2023-06-13</td>\n",
       "      <td>3791359846</td>\n",
       "      <td>47546843000151</td>\n",
       "      <td>None</td>\n",
       "    </tr>\n",
       "  </tbody>\n",
       "</table>\n",
       "<p>5 rows × 57 columns</p>\n",
       "</div>"
      ],
      "text/plain": [
       "    ano  turno       tipo_eleicao sigla_uf id_municipio id_municipio_tse  \\\n",
       "0  2022      1  eleicao ordinaria       AC         None             None   \n",
       "1  2022      1  eleicao ordinaria       AC         None             None   \n",
       "2  2022      1  eleicao ordinaria       AC         None             None   \n",
       "3  2022      1  eleicao ordinaria       AC         None             None   \n",
       "4  2022      1  eleicao ordinaria       AC         None             None   \n",
       "\n",
       "  sequencial_candidato numero_candidato cpf_candidato cnpj_candidato  ...  \\\n",
       "0          10001635541            10000   60746440120           None  ...   \n",
       "1          10001635541            10000   60746440120           None  ...   \n",
       "2          10001635532            10022   10938192191           None  ...   \n",
       "3          10001635532            10022   10938192191           None  ...   \n",
       "4          10001635532            10022   10938192191           None  ...   \n",
       "\n",
       "  cpf_administrador numero_recibo_eleitoral numero_documento  \\\n",
       "0              None                    None             None   \n",
       "1              None                    None             None   \n",
       "2              None                    None             None   \n",
       "3              None                    None             None   \n",
       "4              None                    None             None   \n",
       "\n",
       "    numero_recibo_doacao numero_documento_doacao tipo_prestacao_contas  \\\n",
       "0  100000700000AC000001E          07665132000181                 final   \n",
       "1  100000700000AC000002E          09017845000164                 final   \n",
       "2  100220700000AC000005E          07665132000181                 final   \n",
       "3  100220700000AC000004E             10938192191                 final   \n",
       "4  100220700000AC000001E          07665132000181                 final   \n",
       "\n",
       "  data_prestacao_contas sequencial_prestador_contas cnpj_prestador_contas  \\\n",
       "0            2022-10-27                  3791359992        47529158000117   \n",
       "1            2022-10-27                  3791359992        47529158000117   \n",
       "2            2023-06-13                  3791359846        47546843000151   \n",
       "3            2023-06-13                  3791359846        47546843000151   \n",
       "4            2023-06-13                  3791359846        47546843000151   \n",
       "\n",
       "  entrega_conjunto  \n",
       "0             None  \n",
       "1             None  \n",
       "2             None  \n",
       "3             None  \n",
       "4             None  \n",
       "\n",
       "[5 rows x 57 columns]"
      ]
     },
     "execution_count": 11,
     "metadata": {},
     "output_type": "execute_result"
    }
   ],
   "source": [
    "df = pd.read_parquet('data/parquet_files/candidate_recipes.parquet.gzip', engine='auto')\n",
    "df.head()"
   ]
  },
  {
   "cell_type": "markdown",
   "id": "e44b4e3a",
   "metadata": {},
   "source": [
    "# Clearing the dataset"
   ]
  }
 ],
 "metadata": {
  "hide_input": false,
  "kernelspec": {
   "display_name": "Python 3 (ipykernel)",
   "language": "python",
   "name": "python3"
  },
  "language_info": {
   "codemirror_mode": {
    "name": "ipython",
    "version": 3
   },
   "file_extension": ".py",
   "mimetype": "text/x-python",
   "name": "python",
   "nbconvert_exporter": "python",
   "pygments_lexer": "ipython3",
   "version": "3.10.12"
  },
  "toc": {
   "base_numbering": 1,
   "nav_menu": {},
   "number_sections": true,
   "sideBar": true,
   "skip_h1_title": false,
   "title_cell": "Table of Contents",
   "title_sidebar": "Contents",
   "toc_cell": false,
   "toc_position": {
    "height": "calc(100% - 180px)",
    "left": "10px",
    "top": "150px",
    "width": "299px"
   },
   "toc_section_display": true,
   "toc_window_display": true
  },
  "varInspector": {
   "cols": {
    "lenName": 16,
    "lenType": 16,
    "lenVar": 40
   },
   "kernels_config": {
    "python": {
     "delete_cmd_postfix": "",
     "delete_cmd_prefix": "del ",
     "library": "var_list.py",
     "varRefreshCmd": "print(var_dic_list())"
    },
    "r": {
     "delete_cmd_postfix": ") ",
     "delete_cmd_prefix": "rm(",
     "library": "var_list.r",
     "varRefreshCmd": "cat(var_dic_list()) "
    }
   },
   "oldHeight": 132.844,
   "position": {
    "height": "147.844px",
    "left": "774px",
    "right": "20px",
    "top": "1px",
    "width": "398px"
   },
   "types_to_exclude": [
    "module",
    "function",
    "builtin_function_or_method",
    "instance",
    "_Feature"
   ],
   "varInspector_section_display": "block",
   "window_display": false
  }
 },
 "nbformat": 4,
 "nbformat_minor": 5
}
